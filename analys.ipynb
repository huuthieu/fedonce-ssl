{
 "cells": [
  {
   "cell_type": "code",
   "execution_count": 10,
   "id": "f396cf3d",
   "metadata": {},
   "outputs": [],
   "source": [
    "import pandas as pd"
   ]
  },
  {
   "cell_type": "code",
   "execution_count": 11,
   "id": "44547c32",
   "metadata": {},
   "outputs": [],
   "source": [
    "data = {}\n",
    "for i in range(29):  # 0 to 28 inclusive\n",
    "    data[str(i)] = i\n",
    "    # Create the DataFrame\n",
    "    df = pd.DataFrame(data, index=[0])"
   ]
  },
  {
   "cell_type": "code",
   "execution_count": 12,
   "id": "6d5f7399",
   "metadata": {},
   "outputs": [
    {
     "data": {
      "text/html": [
       "<div>\n",
       "<style scoped>\n",
       "    .dataframe tbody tr th:only-of-type {\n",
       "        vertical-align: middle;\n",
       "    }\n",
       "\n",
       "    .dataframe tbody tr th {\n",
       "        vertical-align: top;\n",
       "    }\n",
       "\n",
       "    .dataframe thead th {\n",
       "        text-align: right;\n",
       "    }\n",
       "</style>\n",
       "<table border=\"1\" class=\"dataframe\">\n",
       "  <thead>\n",
       "    <tr style=\"text-align: right;\">\n",
       "      <th></th>\n",
       "      <th>2</th>\n",
       "      <th>20</th>\n",
       "      <th>23</th>\n",
       "      <th>13</th>\n",
       "      <th>11</th>\n",
       "      <th>25</th>\n",
       "      <th>27</th>\n",
       "      <th>26</th>\n",
       "      <th>5</th>\n",
       "      <th>14</th>\n",
       "      <th>...</th>\n",
       "      <th>18</th>\n",
       "      <th>19</th>\n",
       "      <th>9</th>\n",
       "      <th>7</th>\n",
       "      <th>24</th>\n",
       "      <th>3</th>\n",
       "      <th>0</th>\n",
       "      <th>21</th>\n",
       "      <th>15</th>\n",
       "      <th>12</th>\n",
       "    </tr>\n",
       "  </thead>\n",
       "  <tbody>\n",
       "    <tr>\n",
       "      <th>0</th>\n",
       "      <td>2</td>\n",
       "      <td>20</td>\n",
       "      <td>23</td>\n",
       "      <td>13</td>\n",
       "      <td>11</td>\n",
       "      <td>25</td>\n",
       "      <td>27</td>\n",
       "      <td>26</td>\n",
       "      <td>5</td>\n",
       "      <td>14</td>\n",
       "      <td>...</td>\n",
       "      <td>18</td>\n",
       "      <td>19</td>\n",
       "      <td>9</td>\n",
       "      <td>7</td>\n",
       "      <td>24</td>\n",
       "      <td>3</td>\n",
       "      <td>0</td>\n",
       "      <td>21</td>\n",
       "      <td>15</td>\n",
       "      <td>12</td>\n",
       "    </tr>\n",
       "  </tbody>\n",
       "</table>\n",
       "<p>1 rows × 29 columns</p>\n",
       "</div>"
      ],
      "text/plain": [
       "   2  20  23  13  11  25  27  26  5  14  ...  18  19  9  7  24  3  0  21  15  \\\n",
       "0  2  20  23  13  11  25  27  26  5  14  ...  18  19  9  7  24  3  0  21  15   \n",
       "\n",
       "   12  \n",
       "0  12  \n",
       "\n",
       "[1 rows x 29 columns]"
      ]
     },
     "execution_count": 12,
     "metadata": {},
     "output_type": "execute_result"
    }
   ],
   "source": [
    "df.sample(frac=1, axis = 1, random_state=0)"
   ]
  },
  {
   "cell_type": "code",
   "execution_count": 13,
   "id": "e7767593",
   "metadata": {},
   "outputs": [],
   "source": [
    "feature_importances = [0.00152426, 0.00020764, 0.00012705, 0.00477799, 0.00184263, 0.00030301,\n",
    "0.00013304, 0.00045364, 0.00094648, 0.00040916, 0.00087954, 0.00112589,\n",
    "0.00011614, 0.00079614, 0.0016075,  0.00141531, 0.00010663, 0.00238845,\n",
    "0.00057058, 0.00038649, 0.00031523, 0.00211326, 0.00101214, 0.0002283,\n",
    "0.00292748, 0.00193428, 0.00071139, 0.00104102, 0.00026512]"
   ]
  },
  {
   "cell_type": "code",
   "execution_count": 17,
   "id": "40014adf",
   "metadata": {},
   "outputs": [
    {
     "data": {
      "text/plain": [
       "0.00477799"
      ]
     },
     "execution_count": 17,
     "metadata": {},
     "output_type": "execute_result"
    }
   ],
   "source": [
    "max(feature_importances)"
   ]
  },
  {
   "cell_type": "code",
   "execution_count": 5,
   "id": "ef70078a",
   "metadata": {},
   "outputs": [],
   "source": [
    "split_left = df.sample(frac=1, axis = 1, random_state=0).values[0][:7]\n"
   ]
  },
  {
   "cell_type": "code",
   "execution_count": 7,
   "id": "9c0ea6a8",
   "metadata": {},
   "outputs": [
    {
     "data": {
      "text/plain": [
       "[0.00012705,\n",
       " 0.00031523,\n",
       " 0.0002283,\n",
       " 0.00079614,\n",
       " 0.00112589,\n",
       " 0.00193428,\n",
       " 0.00104102]"
      ]
     },
     "execution_count": 7,
     "metadata": {},
     "output_type": "execute_result"
    }
   ],
   "source": [
    "[feature_importances[i] for i in split_left]"
   ]
  },
  {
   "cell_type": "code",
   "execution_count": 8,
   "id": "30b685b6",
   "metadata": {},
   "outputs": [
    {
     "data": {
      "text/plain": [
       "[0.00012705,\n",
       " 0.00031523,\n",
       " 0.0002283,\n",
       " 0.00079614,\n",
       " 0.00112589,\n",
       " 0.00193428,\n",
       " 0.00104102,\n",
       " 0.00071139,\n",
       " 0.00030301,\n",
       " 0.0016075,\n",
       " 0.00094648,\n",
       " 0.00010663,\n",
       " 0.00101214,\n",
       " 0.00238845,\n",
       " 0.00020764]"
      ]
     },
     "execution_count": 8,
     "metadata": {},
     "output_type": "execute_result"
    }
   ],
   "source": [
    "split_left = df.sample(frac=1, axis = 1, random_state=0).values[0][:15]\n",
    "[feature_importances[i] for i in split_left]"
   ]
  },
  {
   "cell_type": "code",
   "execution_count": 14,
   "id": "8b52bd4e",
   "metadata": {},
   "outputs": [
    {
     "data": {
      "text/plain": [
       "[0.00071139,\n",
       " 0.00030301,\n",
       " 0.0016075,\n",
       " 0.00094648,\n",
       " 0.00010663,\n",
       " 0.00101214,\n",
       " 0.00238845,\n",
       " 0.00020764,\n",
       " 0.00087954,\n",
       " 0.00026512,\n",
       " 0.00013304,\n",
       " 0.00184263,\n",
       " 0.00057058,\n",
       " 0.00038649,\n",
       " 0.00040916,\n",
       " 0.00045364,\n",
       " 0.00292748,\n",
       " 0.00477799,\n",
       " 0.00152426,\n",
       " 0.00211326,\n",
       " 0.00141531,\n",
       " 0.00011614]"
      ]
     },
     "execution_count": 14,
     "metadata": {},
     "output_type": "execute_result"
    }
   ],
   "source": [
    "split_right = df.sample(frac=1, axis = 1, random_state=0).values[0][7:]\n",
    "[feature_importances[i] for i in split_right]"
   ]
  },
  {
   "cell_type": "code",
   "execution_count": 15,
   "id": "04a6fb8c",
   "metadata": {},
   "outputs": [
    {
     "data": {
      "text/plain": [
       "[0.00087954,\n",
       " 0.00026512,\n",
       " 0.00013304,\n",
       " 0.00184263,\n",
       " 0.00057058,\n",
       " 0.00038649,\n",
       " 0.00040916,\n",
       " 0.00045364,\n",
       " 0.00292748,\n",
       " 0.00477799,\n",
       " 0.00152426,\n",
       " 0.00211326,\n",
       " 0.00141531,\n",
       " 0.00011614]"
      ]
     },
     "execution_count": 15,
     "metadata": {},
     "output_type": "execute_result"
    }
   ],
   "source": [
    "split_right = df.sample(frac=1, axis = 1, random_state=0).values[0][15:]\n",
    "[feature_importances[i] for i in split_right]"
   ]
  },
  {
   "cell_type": "code",
   "execution_count": 11,
   "id": "ffc05fe1",
   "metadata": {},
   "outputs": [],
   "source": [
    "import numpy as np\n",
    "\n",
    "def split_matrix(x, a, b):\n",
    "    \"\"\"\n",
    "    Chia ma trận x thành hai ma trận có cùng số hàng, số cột chồng lên nhau là a, và tỉ lệ giữa 2 phần là b.\n",
    "\n",
    "    Parameters:\n",
    "    - x: Ma trận cần chia.\n",
    "    - a: Số cột chồng lên nhau.\n",
    "    - b: Tỉ lệ giữa hai phần.\n",
    "\n",
    "    Returns:\n",
    "    - Hai ma trận a và b.\n",
    "    \"\"\"\n",
    "    num_rows, num_cols = x.shape\n",
    "\n",
    "    # Tính số cột cho mỗi phần\n",
    "    cols_a = int(num_cols * a)\n",
    "    cols_b = num_cols - cols_a\n",
    "\n",
    "    # Tính số cột chồng lên nhau\n",
    "    overlap_cols = int(num_cols * b)\n",
    "\n",
    "    # Chọn ngẫu nhiên các cột cho phần a\n",
    "    indices_a = np.random.choice(num_cols - overlap_cols, cols_a, replace=False)\n",
    "    print(indices_a)\n",
    "\n",
    "    # Tạo ma trận a từ các cột được chọn\n",
    "    a_matrix = x[:, indices_a]\n",
    "\n",
    "    # Tạo ma trận b từ các cột còn lại, có chồng lên phần a\n",
    "    indices_b = np.setdiff1d(np.arange(num_cols), indices_a)\n",
    "    b_matrix = x[:, indices_b]\n",
    "    print(indices_b)\n",
    "\n",
    "    return a_matrix, b_matrix\n",
    "\n"
   ]
  },
  {
   "cell_type": "code",
   "execution_count": 12,
   "id": "4f90b7a5",
   "metadata": {},
   "outputs": [
    {
     "name": "stdout",
     "output_type": "stream",
     "text": [
      "[7 5 6 0 3 4 2]\n",
      "[1 8 9]\n",
      "Matrix 'a':\n",
      "[[0.891773   0.64589411 0.43758721 0.5488135  0.54488318 0.4236548\n",
      "  0.60276338]\n",
      " [0.83261985 0.0871293  0.0202184  0.79172504 0.92559664 0.07103606\n",
      "  0.56804456]\n",
      " [0.94466892 0.63992102 0.14335329 0.97861834 0.78052918 0.11827443\n",
      "  0.46147936]\n",
      " [0.616934   0.6176355  0.61209572 0.26455561 0.56843395 0.0187898\n",
      "  0.45615033]\n",
      " [0.1289263  0.67063787 0.21038256 0.3595079  0.06022547 0.66676672\n",
      "  0.6976312 ]]\n",
      "\n",
      "Matrix 'b':\n",
      "[[0.71518937 0.96366276 0.38344152]\n",
      " [0.52889492 0.77815675 0.87001215]\n",
      " [0.79915856 0.52184832 0.41466194]\n",
      " [0.77423369 0.94374808 0.6818203 ]\n",
      " [0.43703195 0.31542835 0.36371077]]\n"
     ]
    }
   ],
   "source": [
    "# Example usage:\n",
    "np.random.seed(0)\n",
    "x = np.random.rand(5, 10)  # Replace this with your actual data\n",
    "a_ratio = 0.7  # Ratio of columns for part 'a'\n",
    "b_ratio = 0.2  # Ratio of columns for part 'b'\n",
    "\n",
    "a_matrix, b_matrix = split_matrix(x, a_ratio, b_ratio)\n",
    "\n",
    "print(\"Matrix 'a':\")\n",
    "print(a_matrix)\n",
    "print(\"\\nMatrix 'b':\")\n",
    "print(b_matrix)"
   ]
  },
  {
   "cell_type": "code",
   "execution_count": null,
   "id": "0b363951",
   "metadata": {},
   "outputs": [],
   "source": [
    "np.random.choice(num_cols - overlap_cols, cols_a, replace=False)"
   ]
  }
 ],
 "metadata": {
  "kernelspec": {
   "display_name": "Python 3 (ipykernel)",
   "language": "python",
   "name": "python3"
  },
  "language_info": {
   "codemirror_mode": {
    "name": "ipython",
    "version": 3
   },
   "file_extension": ".py",
   "mimetype": "text/x-python",
   "name": "python",
   "nbconvert_exporter": "python",
   "pygments_lexer": "ipython3",
   "version": "3.8.12"
  }
 },
 "nbformat": 4,
 "nbformat_minor": 5
}
