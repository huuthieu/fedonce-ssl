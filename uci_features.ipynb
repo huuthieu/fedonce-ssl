{
 "cells": [
  {
   "cell_type": "code",
   "execution_count": 6,
   "metadata": {},
   "outputs": [],
   "source": [
    "import sys\n",
    "\n",
    "import matplotlib.pyplot as plt\n",
    "import pandas as pd\n",
    "from sklearn import datasets\n",
    "from sklearn.linear_model import LogisticRegression\n",
    "from sklearn.manifold import TSNE\n",
    "from sklearn.metrics import ConfusionMatrixDisplay, classification_report, confusion_matrix\n",
    "from sklearn.model_selection import train_test_split\n",
    "from sklearn.preprocessing import StandardScaler\n",
    "from torch.optim import Adam\n",
    "from torch.utils.data import DataLoader\n",
    "\n",
    "import sys\n",
    "sys.path.append(\"../pytorch-scarf\")\n",
    "sys.path.append(\"../tabular_dae\")\n",
    "\n",
    "from scarf.loss import NTXent\n",
    "from scarf.model import SCARF\n",
    "from scarf.dataset import SCARFDataset\n",
    "\n",
    "from tqdm import tqdm\n",
    "import numpy as pan\n",
    "\n",
    "from example.utils import get_device, dataset_embeddings, fix_seed, train_epoch\n",
    "\n",
    "seed = 1234\n",
    "fix_seed(seed)\n",
    "\n",
    "from utils.data_utils import load_data_cross_validation, load_data_train_test, get_random_noisy_row, load_creditcardfraud, load_uci"
   ]
  },
  {
   "cell_type": "code",
   "execution_count": 7,
   "metadata": {},
   "outputs": [],
   "source": [
    "## Fedonce import\n",
    " \n",
    "from model.models import FC, AggModel, CNN, ResNet18, SmallCNN, BareSmallCNN, NCF, AggModelTest\n",
    "from utils.utils import generate_random_targets, calc_optimal_target_permutation, \\\n",
    "    is_perturbation\n",
    "from utils.data_utils import LocalDataset, AggDataset, ImageDataset\n"
   ]
  },
  {
   "cell_type": "code",
   "execution_count": 8,
   "metadata": {},
   "outputs": [],
   "source": [
    "import numpy as np\n",
    "import torch\n",
    "import torch.nn as nn\n",
    "import torch.optim as optim\n",
    "from torch.utils.tensorboard import SummaryWriter\n",
    "from torch.utils.data import DataLoader, TensorDataset\n",
    "from torchvision.transforms import transforms"
   ]
  },
  {
   "cell_type": "markdown",
   "metadata": {},
   "source": [
    "# Data"
   ]
  },
  {
   "cell_type": "code",
   "execution_count": 5,
   "metadata": {},
   "outputs": [
    {
     "name": "stdout",
     "output_type": "stream",
     "text": [
      "Dataset size before:\t30000\n",
      "Dataset size after:\t29601\n"
     ]
    }
   ],
   "source": [
    "xs_train_val, y_train_val, xs_test, y_test = load_uci(test_rate = 0.2)"
   ]
  },
  {
   "cell_type": "markdown",
   "metadata": {},
   "source": [
    "## Scarf"
   ]
  },
  {
   "cell_type": "code",
   "execution_count": 5,
   "metadata": {},
   "outputs": [
    {
     "name": "stdout",
     "output_type": "stream",
     "text": [
      "Train set: (23680, 25)\n",
      "Test set: (5921, 25)\n"
     ]
    }
   ],
   "source": [
    "\n",
    "x_train_val = np.concatenate(xs_train_val, axis=1)\n",
    "x_test = np.concatenate(xs_test, axis=1)\n",
    "\n",
    "# to torch dataset\n",
    "train_ds = SCARFDataset(x_train_val, y_train_val)\n",
    "test_ds = SCARFDataset(x_test, y_test)\n",
    "\n",
    "print(f\"Train set: {train_ds.shape}\")\n",
    "print(f\"Test set: {test_ds.shape}\")"
   ]
  },
  {
   "cell_type": "markdown",
   "metadata": {},
   "source": [
    "### Training"
   ]
  },
  {
   "cell_type": "code",
   "execution_count": null,
   "metadata": {},
   "outputs": [],
   "source": []
  },
  {
   "cell_type": "code",
   "execution_count": 6,
   "metadata": {},
   "outputs": [
    {
     "name": "stdout",
     "output_type": "stream",
     "text": [
      "epoch 100/100 - loss: 0.0391\r"
     ]
    },
    {
     "data": {
      "text/plain": [
       "Text(0, 0.5, 'loss')"
      ]
     },
     "execution_count": 6,
     "metadata": {},
     "output_type": "execute_result"
    },
    {
     "data": {
      "image/png": "[encoded data removed]",
      "text/plain": [
       "<Figure size 720x360 with 1 Axes>"
      ]
     },
     "metadata": {
      "needs_background": "light"
     },
     "output_type": "display_data"
    }
   ],
   "source": [
    "batch_size = 128\n",
    "epochs = 100\n",
    "device = get_device()\n",
    "\n",
    "train_loader = DataLoader(train_ds, batch_size=batch_size, shuffle=True)\n",
    "\n",
    "model = SCARF(\n",
    "    input_dim=train_ds.shape[1],\n",
    "    features_low=train_ds.features_low,\n",
    "    features_high=train_ds.features_high,\n",
    "    dim_hidden_encoder=10,\n",
    "    num_hidden_encoder=3,\n",
    "    dim_hidden_head=50,\n",
    "    num_hidden_head=2,\n",
    "    corruption_rate=0.6,\n",
    "    dropout=0.1,\n",
    ").to(device)\n",
    "\n",
    "optimizer = Adam(model.parameters(), lr=1e-3, weight_decay=1e-5)\n",
    "ntxent_loss = NTXent()\n",
    "\n",
    "loss_history = []\n",
    "\n",
    "for epoch in range(1, epochs + 1):\n",
    "    epoch_loss = train_epoch(model, ntxent_loss, train_loader, optimizer, device)\n",
    "    loss_history.append(epoch_loss)\n",
    "\n",
    "    if epoch % 10 == 0:\n",
    "        print(f\"epoch {epoch}/{epochs} - loss: {loss_history[-1]:.4f}\", end=\"\\r\")\n",
    "\n",
    "\n",
    "fig, ax = plt.subplots(figsize=(10, 5))\n",
    "ax.plot(loss_history)\n",
    "ax.set_xlabel(\"epoch\")\n",
    "ax.set_ylabel(\"loss\")"
   ]
  },
  {
   "cell_type": "code",
   "execution_count": 7,
   "metadata": {},
   "outputs": [
    {
     "data": {
      "application/vnd.jupyter.widget-view+json": {
       "model_id": "5e340c40929b46928403fb19f37975ba",
       "version_major": 2,
       "version_minor": 0
      },
      "text/plain": [
       "  0%|          | 0/185 [00:00<?, ?it/s]"
      ]
     },
     "metadata": {},
     "output_type": "display_data"
    },
    {
     "data": {
      "application/vnd.jupyter.widget-view+json": {
       "model_id": "5fd78c7701584dee96e139a878b14a47",
       "version_major": 2,
       "version_minor": 0
      },
      "text/plain": [
       "  0%|          | 0/47 [00:00<?, ?it/s]"
      ]
     },
     "metadata": {},
     "output_type": "display_data"
    },
    {
     "name": "stdout",
     "output_type": "stream",
     "text": [
      "(23680, 10)\n",
      "(5921, 10)\n"
     ]
    }
   ],
   "source": [
    "train_loader = DataLoader(train_ds, batch_size=batch_size, shuffle=False)\n",
    "test_loader = DataLoader(test_ds, batch_size=batch_size, shuffle=False)\n",
    "\n",
    "# get embeddings for training and test set\n",
    "train_embeddings = dataset_embeddings(model, train_loader, device)\n",
    "test_embeddings = dataset_embeddings(model, test_loader, device)\n",
    "\n",
    "print(train_embeddings.shape)\n",
    "print(test_embeddings.shape)\n"
   ]
  },
  {
   "cell_type": "code",
   "execution_count": 13,
   "metadata": {},
   "outputs": [
    {
     "data": {
      "text/plain": [
       "(23680, 10)"
      ]
     },
     "execution_count": 13,
     "metadata": {},
     "output_type": "execute_result"
    }
   ],
   "source": [
    "train_embeddings.shape"
   ]
  },
  {
   "cell_type": "code",
   "execution_count": 18,
   "metadata": {},
   "outputs": [
    {
     "data": {
      "text/plain": [
       "(5921, 10)"
      ]
     },
     "execution_count": 18,
     "metadata": {},
     "output_type": "execute_result"
    }
   ],
   "source": [
    "test_embeddings.shape"
   ]
  },
  {
   "cell_type": "code",
   "execution_count": 11,
   "metadata": {},
   "outputs": [
    {
     "data": {
      "text/plain": [
       "(23680, 25)"
      ]
     },
     "execution_count": 11,
     "metadata": {},
     "output_type": "execute_result"
    }
   ],
   "source": [
    "x_train_val.shape"
   ]
  },
  {
   "cell_type": "code",
   "execution_count": 14,
   "metadata": {},
   "outputs": [],
   "source": [
    "vector_random = np.random.rand(23680, 10)\n"
   ]
  },
  {
   "cell_type": "code",
   "execution_count": 17,
   "metadata": {},
   "outputs": [
    {
     "name": "stdout",
     "output_type": "stream",
     "text": [
      "              precision    recall  f1-score   support\n",
      "\n",
      "           0       0.82      0.97      0.89      4600\n",
      "           1       0.70      0.25      0.37      1321\n",
      "\n",
      "    accuracy                           0.81      5921\n",
      "   macro avg       0.76      0.61      0.63      5921\n",
      "weighted avg       0.79      0.81      0.77      5921\n",
      "\n"
     ]
    },
    {
     "name": "stderr",
     "output_type": "stream",
     "text": [
      "/opt/conda/lib/python3.8/site-packages/sklearn/linear_model/_logistic.py:460: ConvergenceWarning: lbfgs failed to converge (status=1):\n",
      "STOP: TOTAL NO. of ITERATIONS REACHED LIMIT.\n",
      "\n",
      "Increase the number of iterations (max_iter) or scale the data as shown in:\n",
      "    https://scikit-learn.org/stable/modules/preprocessing.html\n",
      "Please also refer to the documentation for alternative solver options:\n",
      "    https://scikit-learn.org/stable/modules/linear_model.html#logistic-regression\n",
      "  n_iter_i = _check_optimize_result(\n"
     ]
    },
    {
     "data": {
      "text/plain": [
       "<sklearn.metrics._plot.confusion_matrix.ConfusionMatrixDisplay at 0x7f34d833f9d0>"
      ]
     },
     "execution_count": 17,
     "metadata": {},
     "output_type": "execute_result"
    },
    {
     "data": {
      "image/png": "[encoded data removed]",
      "text/plain": [
       "<Figure size 360x360 with 2 Axes>"
      ]
     },
     "metadata": {
      "needs_background": "light"
     },
     "output_type": "display_data"
    }
   ],
   "source": [
    "clf = LogisticRegression()\n",
    "\n",
    "# vanilla dataset: train the classifier on the original data\n",
    "clf.fit(x_train_val, y_train_val)\n",
    "vanilla_predictions = clf.predict(x_test)\n",
    "\n",
    "print(classification_report(y_test, vanilla_predictions))\n",
    "cm = confusion_matrix(y_test, vanilla_predictions)\n",
    "disp = ConfusionMatrixDisplay(confusion_matrix=cm)\n",
    "\n",
    "fig, ax = plt.subplots(figsize=(5, 5))\n",
    "disp.plot(ax=ax)"
   ]
  },
  {
   "cell_type": "code",
   "execution_count": 16,
   "metadata": {},
   "outputs": [
    {
     "name": "stdout",
     "output_type": "stream",
     "text": [
      "              precision    recall  f1-score   support\n",
      "\n",
      "           0       0.78      1.00      0.87      4600\n",
      "           1       0.00      0.00      0.00      1321\n",
      "\n",
      "    accuracy                           0.78      5921\n",
      "   macro avg       0.39      0.50      0.44      5921\n",
      "weighted avg       0.60      0.78      0.68      5921\n",
      "\n"
     ]
    },
    {
     "name": "stderr",
     "output_type": "stream",
     "text": [
      "/opt/conda/lib/python3.8/site-packages/sklearn/metrics/_classification.py:1471: UndefinedMetricWarning: Precision and F-score are ill-defined and being set to 0.0 in labels with no predicted samples. Use `zero_division` parameter to control this behavior.\n",
      "  _warn_prf(average, modifier, msg_start, len(result))\n",
      "/opt/conda/lib/python3.8/site-packages/sklearn/metrics/_classification.py:1471: UndefinedMetricWarning: Precision and F-score are ill-defined and being set to 0.0 in labels with no predicted samples. Use `zero_division` parameter to control this behavior.\n",
      "  _warn_prf(average, modifier, msg_start, len(result))\n",
      "/opt/conda/lib/python3.8/site-packages/sklearn/metrics/_classification.py:1471: UndefinedMetricWarning: Precision and F-score are ill-defined and being set to 0.0 in labels with no predicted samples. Use `zero_division` parameter to control this behavior.\n",
      "  _warn_prf(average, modifier, msg_start, len(result))\n"
     ]
    },
    {
     "data": {
      "text/plain": [
       "<sklearn.metrics._plot.confusion_matrix.ConfusionMatrixDisplay at 0x7f34d83c48e0>"
      ]
     },
     "execution_count": 16,
     "metadata": {},
     "output_type": "execute_result"
    },
    {
     "data": {
      "image/png": "[encoded data removed]",
      "text/plain": [
       "<Figure size 360x360 with 2 Axes>"
      ]
     },
     "metadata": {
      "needs_background": "light"
     },
     "output_type": "display_data"
    }
   ],
   "source": [
    "# embeddings dataset: train the classifier on the embeddings\n",
    "clf.fit(vector_random, y_train_val)\n",
    "vanilla_predictions = clf.predict(test_embeddings)\n",
    "\n",
    "print(classification_report(y_test, vanilla_predictions))\n",
    "cm = confusion_matrix(y_test, vanilla_predictions)\n",
    "disp = ConfusionMatrixDisplay(confusion_matrix=cm)\n",
    "\n",
    "fig, ax = plt.subplots(figsize=(5, 5))\n",
    "disp.plot(ax=ax)"
   ]
  },
  {
   "cell_type": "code",
   "execution_count": null,
   "metadata": {},
   "outputs": [],
   "source": []
  },
  {
   "cell_type": "markdown",
   "metadata": {},
   "source": [
    "# NAT"
   ]
  },
  {
   "cell_type": "code",
   "execution_count": 75,
   "metadata": {},
   "outputs": [],
   "source": [
    "local_batch_size=100\n",
    "num_workers = 0\n",
    "local_hidden_layers = [50, 30]\n",
    "num_features = X.shape[1]\n",
    "local_output_dim = 10\n",
    "local_lr = 3e-4\n",
    "local_weight_decay=1e-5\n"
   ]
  },
  {
   "cell_type": "code",
   "execution_count": 76,
   "metadata": {},
   "outputs": [],
   "source": [
    "X = np.concatenate(xs_train_val, axis=1)\n",
    "X_test = np.concatenate(xs_test, axis=1)\n",
    "num_instances = X.shape[0]\n",
    "y = generate_random_targets(num_instances, local_output_dim)[None, :, :]"
   ]
  },
  {
   "cell_type": "code",
   "execution_count": 77,
   "metadata": {},
   "outputs": [
    {
     "data": {
      "text/plain": [
       "(23680, 25)"
      ]
     },
     "execution_count": 77,
     "metadata": {},
     "output_type": "execute_result"
    }
   ],
   "source": [
    "X.shape"
   ]
  },
  {
   "cell_type": "code",
   "execution_count": 78,
   "metadata": {},
   "outputs": [
    {
     "data": {
      "text/plain": [
       "(1, 23680, 10)"
      ]
     },
     "execution_count": 78,
     "metadata": {},
     "output_type": "execute_result"
    }
   ],
   "source": [
    "y.shape"
   ]
  },
  {
   "cell_type": "code",
   "execution_count": 89,
   "metadata": {},
   "outputs": [],
   "source": [
    "X_tensor = torch.from_numpy(X).float()\n",
    "y_tensor = torch.from_numpy(y[0]).float()  # y will be updated\n",
    "dataset = LocalDataset(X_tensor, y_tensor)"
   ]
  },
  {
   "cell_type": "code",
   "execution_count": null,
   "metadata": {},
   "outputs": [],
   "source": []
  },
  {
   "cell_type": "code",
   "execution_count": 90,
   "metadata": {},
   "outputs": [],
   "source": [
    "data_loader = DataLoader(dataset, batch_size=local_batch_size, shuffle=True,\n",
    "                                 drop_last=True, num_workers=num_workers,\n",
    "                                 multiprocessing_context='fork' if num_workers > 0 else None)\n"
   ]
  },
  {
   "cell_type": "code",
   "execution_count": null,
   "metadata": {},
   "outputs": [],
   "source": []
  },
  {
   "cell_type": "code",
   "execution_count": 91,
   "metadata": {},
   "outputs": [],
   "source": [
    "model = FC(num_features, local_hidden_layers, output_size=local_output_dim,\n",
    "                                         activation='tanh') "
   ]
  },
  {
   "cell_type": "code",
   "execution_count": 92,
   "metadata": {},
   "outputs": [],
   "source": [
    "def mse_loss(x, y):\n",
    "    return torch.mean(torch.sum((x - y) ** 2, dim=1))"
   ]
  },
  {
   "cell_type": "code",
   "execution_count": 93,
   "metadata": {},
   "outputs": [],
   "source": [
    "model = model.to(device)\n",
    "model = nn.DataParallel(model)\n",
    "\n",
    "loss_fn = mse_loss"
   ]
  },
  {
   "cell_type": "code",
   "execution_count": 94,
   "metadata": {},
   "outputs": [],
   "source": [
    "optimizer = optim.Adam(model.parameters(), lr=local_lr, weight_decay=local_weight_decay)\n"
   ]
  },
  {
   "cell_type": "code",
   "execution_count": 98,
   "metadata": {},
   "outputs": [
    {
     "name": "stderr",
     "output_type": "stream",
     "text": [
      "100%|█████████████████████████████████████████| 100/100 [01:43<00:00,  1.03s/it]\n"
     ]
    }
   ],
   "source": [
    "total_loss = 0.0\n",
    "num_mini_batches = 0\n",
    "num_local_rounds = 100\n",
    "update_target_freq = 1\n",
    "for i in tqdm(range(num_local_rounds)):\n",
    "    update_targets = ((i + 1) % update_target_freq == 0)\n",
    "    for j, (idx, X_i, y_i) in enumerate(data_loader, 0):\n",
    "        X_i = X_i.to(device)\n",
    "        y_i = y_i.to(device)\n",
    "\n",
    "        optimizer.zero_grad()\n",
    "\n",
    "        y_pred = model(X_i)\n",
    "        if update_targets:\n",
    "            output = y_pred.cpu().detach().numpy()\n",
    "            new_targets = calc_optimal_target_permutation(output, y_i.cpu().detach().numpy())\n",
    "            new_targets_tensor = torch.from_numpy(new_targets)\n",
    "            dataset.update_targets(idx, new_targets_tensor)\n",
    "            y_i = torch.from_numpy(new_targets).to(device)\n",
    "\n",
    "        loss = loss_fn(y_pred, y_i)\n",
    "\n",
    "        total_loss += loss.item()\n",
    "        loss.backward()\n",
    "        optimizer.step()\n",
    "        num_mini_batches += 1\n",
    "\n",
    "    total_loss = 0.0\n",
    "    num_mini_batches = 0\n"
   ]
  },
  {
   "cell_type": "code",
   "execution_count": 102,
   "metadata": {},
   "outputs": [],
   "source": [
    "def predict_local(X, model, batch_size=256):\n",
    "    X_tensor = torch.from_numpy(X).float()\n",
    "    dataset = TensorDataset(X_tensor)\n",
    "    dataloader = DataLoader(dataset, batch_size=batch_size, shuffle=False, num_workers = num_workers)\n",
    "\n",
    "    Z_list = []\n",
    "    with torch.no_grad():\n",
    "        model = model.to(device)\n",
    "        model.eval()\n",
    "        for (X_i,) in dataloader:\n",
    "            X_i = X_i.to(device)\n",
    "            Z_i = model(X_i)\n",
    "            Z_list.append(Z_i)\n",
    "    Z = torch.cat(Z_list).detach().cpu().numpy()\n",
    "    return Z"
   ]
  },
  {
   "cell_type": "code",
   "execution_count": 107,
   "metadata": {},
   "outputs": [
    {
     "name": "stdout",
     "output_type": "stream",
     "text": [
      "Dataset size before:\t30000\n",
      "Dataset size after:\t29601\n"
     ]
    }
   ],
   "source": [
    "xs_train_val, y_train_val, xs_test, y_test = load_uci(test_rate = 0.2)"
   ]
  },
  {
   "cell_type": "code",
   "execution_count": 108,
   "metadata": {},
   "outputs": [],
   "source": [
    "X = np.concatenate(xs_train_val, axis=1)\n",
    "X_test = np.concatenate(xs_test, axis=1)"
   ]
  },
  {
   "cell_type": "code",
   "execution_count": 109,
   "metadata": {},
   "outputs": [],
   "source": [
    "# get embeddings for training and test set\n",
    "train_embeddings = predict_local(X, model)\n",
    "test_embeddings = predict_local(X_test, model)\n"
   ]
  },
  {
   "cell_type": "code",
   "execution_count": null,
   "metadata": {},
   "outputs": [],
   "source": []
  },
  {
   "cell_type": "code",
   "execution_count": 112,
   "metadata": {},
   "outputs": [
    {
     "name": "stdout",
     "output_type": "stream",
     "text": [
      "              precision    recall  f1-score   support\n",
      "\n",
      "           0       0.82      0.97      0.89      4600\n",
      "           1       0.70      0.25      0.37      1321\n",
      "\n",
      "    accuracy                           0.81      5921\n",
      "   macro avg       0.76      0.61      0.63      5921\n",
      "weighted avg       0.79      0.81      0.77      5921\n",
      "\n"
     ]
    },
    {
     "name": "stderr",
     "output_type": "stream",
     "text": [
      "/opt/conda/lib/python3.8/site-packages/sklearn/linear_model/_logistic.py:460: ConvergenceWarning: lbfgs failed to converge (status=1):\n",
      "STOP: TOTAL NO. of ITERATIONS REACHED LIMIT.\n",
      "\n",
      "Increase the number of iterations (max_iter) or scale the data as shown in:\n",
      "    https://scikit-learn.org/stable/modules/preprocessing.html\n",
      "Please also refer to the documentation for alternative solver options:\n",
      "    https://scikit-learn.org/stable/modules/linear_model.html#logistic-regression\n",
      "  n_iter_i = _check_optimize_result(\n"
     ]
    },
    {
     "data": {
      "text/plain": [
       "<sklearn.metrics._plot.confusion_matrix.ConfusionMatrixDisplay at 0x7fea68c97190>"
      ]
     },
     "execution_count": 112,
     "metadata": {},
     "output_type": "execute_result"
    },
    {
     "data": {
      "image/png": "[encoded data removed]",
      "text/plain": [
       "<Figure size 360x360 with 2 Axes>"
      ]
     },
     "metadata": {
      "needs_background": "light"
     },
     "output_type": "display_data"
    }
   ],
   "source": [
    "clf = LogisticRegression()\n",
    "\n",
    "# vanilla dataset: train the classifier on the original data\n",
    "clf.fit(X, y_train_val)\n",
    "vanilla_predictions = clf.predict(X_test)\n",
    "\n",
    "print(classification_report(y_test, vanilla_predictions))\n",
    "cm = confusion_matrix(y_test, vanilla_predictions)\n",
    "disp = ConfusionMatrixDisplay(confusion_matrix=cm)\n",
    "\n",
    "fig, ax = plt.subplots(figsize=(5, 5))\n",
    "disp.plot(ax=ax)"
   ]
  },
  {
   "cell_type": "code",
   "execution_count": 117,
   "metadata": {},
   "outputs": [
    {
     "name": "stdout",
     "output_type": "stream",
     "text": [
      "              precision    recall  f1-score   support\n",
      "\n",
      "           0       0.80      0.98      0.88      4600\n",
      "           1       0.64      0.13      0.22      1321\n",
      "\n",
      "    accuracy                           0.79      5921\n",
      "   macro avg       0.72      0.55      0.55      5921\n",
      "weighted avg       0.76      0.79      0.73      5921\n",
      "\n"
     ]
    },
    {
     "data": {
      "text/plain": [
       "<sklearn.metrics._plot.confusion_matrix.ConfusionMatrixDisplay at 0x7fea692f1340>"
      ]
     },
     "execution_count": 117,
     "metadata": {},
     "output_type": "execute_result"
    },
    {
     "data": {
      "image/png": "[encoded data removed]",
      "text/plain": [
       "<Figure size 360x360 with 2 Axes>"
      ]
     },
     "metadata": {
      "needs_background": "light"
     },
     "output_type": "display_data"
    }
   ],
   "source": [
    "# embeddings dataset: train the classifier on the embeddings\n",
    "clf.fit(train_embeddings, y_train_val)\n",
    "vanilla_predictions = clf.predict(test_embeddings)\n",
    "\n",
    "print(classification_report(y_test, vanilla_predictions))\n",
    "cm = confusion_matrix(y_test, vanilla_predictions)\n",
    "disp = ConfusionMatrixDisplay(confusion_matrix=cm)\n",
    "\n",
    "fig, ax = plt.subplots(figsize=(5, 5))\n",
    "disp.plot(ax=ax)"
   ]
  },
  {
   "cell_type": "markdown",
   "metadata": {},
   "source": [
    "# DAE"
   ]
  },
  {
   "cell_type": "code",
   "execution_count": 10,
   "metadata": {},
   "outputs": [],
   "source": [
    "from tabular_dae.model import DAE\n"
   ]
  },
  {
   "cell_type": "code",
   "execution_count": 25,
   "metadata": {},
   "outputs": [],
   "source": [
    "X = np.concatenate(xs_train_val, axis=1)\n",
    "X_test = np.concatenate(xs_test, axis=1)\n",
    "\n",
    "X_df = pd.DataFrame(X)\n",
    "X_test_df = pd.DataFrame(X_test)\n"
   ]
  },
  {
   "cell_type": "code",
   "execution_count": 12,
   "metadata": {},
   "outputs": [
    {
     "name": "stdout",
     "output_type": "stream",
     "text": [
      "epoch    0 - train loss 1.3460 - valid loss 1.2134\n",
      "epoch   10 - train loss 1.0640 - valid loss 1.1131\n",
      "epoch   20 - train loss 1.0324 - valid loss 1.0490\n",
      "epoch   30 - train loss 0.9834 - valid loss 1.0120\n",
      "epoch   40 - train loss 0.9556 - valid loss 1.0056\n",
      "epoch   50 - train loss 0.9326 - valid loss 0.9425\n",
      "Epoch    60: reducing learning rate of group 0 to 3.0000e-05.\n",
      "epoch   60 - train loss 0.9119 - valid loss 0.9798\n",
      "epoch   70 - train loss 0.9120 - valid loss 0.9546\n",
      "epoch   80 - train loss 0.9174 - valid loss 0.9728\n",
      "epoch   90 - train loss 0.9098 - valid loss 0.9508\n",
      "Epoch    94: reducing learning rate of group 0 to 3.0000e-06.\n",
      "epoch  100 - train loss 0.8941 - valid loss 0.9720\n",
      "Epoch   105: reducing learning rate of group 0 to 3.0000e-07.\n",
      "epoch  110 - train loss 0.9032 - valid loss 0.9244\n",
      "Epoch   116: reducing learning rate of group 0 to 3.0000e-08.\n",
      "epoch  120 - train loss 0.9011 - valid loss 0.9517\n",
      "Epoch   127: reducing learning rate of group 0 to 3.0000e-09.\n",
      "epoch  130 - train loss 0.9042 - valid loss 0.9719\n",
      "Early Stopping Triggered, best score is:  0.915408460272325\n"
     ]
    }
   ],
   "source": [
    "dae = DAE()  \n",
    "dae.fit(X_df, verbose=1)"
   ]
  },
  {
   "cell_type": "code",
   "execution_count": null,
   "metadata": {},
   "outputs": [],
   "source": []
  },
  {
   "cell_type": "code",
   "execution_count": 26,
   "metadata": {},
   "outputs": [],
   "source": [
    "# get embeddings for training and test set\n",
    "train_embeddings = dae.transform(X_df)\n",
    "test_embeddings = dae.transform(X_test_df)\n"
   ]
  },
  {
   "cell_type": "code",
   "execution_count": null,
   "metadata": {},
   "outputs": [],
   "source": []
  },
  {
   "cell_type": "code",
   "execution_count": 27,
   "metadata": {},
   "outputs": [
    {
     "name": "stdout",
     "output_type": "stream",
     "text": [
      "              precision    recall  f1-score   support\n",
      "\n",
      "           0       0.82      0.97      0.89      4600\n",
      "           1       0.70      0.25      0.37      1321\n",
      "\n",
      "    accuracy                           0.81      5921\n",
      "   macro avg       0.76      0.61      0.63      5921\n",
      "weighted avg       0.79      0.81      0.77      5921\n",
      "\n"
     ]
    },
    {
     "name": "stderr",
     "output_type": "stream",
     "text": [
      "/opt/conda/lib/python3.8/site-packages/sklearn/linear_model/_logistic.py:460: ConvergenceWarning: lbfgs failed to converge (status=1):\n",
      "STOP: TOTAL NO. of ITERATIONS REACHED LIMIT.\n",
      "\n",
      "Increase the number of iterations (max_iter) or scale the data as shown in:\n",
      "    https://scikit-learn.org/stable/modules/preprocessing.html\n",
      "Please also refer to the documentation for alternative solver options:\n",
      "    https://scikit-learn.org/stable/modules/linear_model.html#logistic-regression\n",
      "  n_iter_i = _check_optimize_result(\n"
     ]
    },
    {
     "data": {
      "text/plain": [
       "<sklearn.metrics._plot.confusion_matrix.ConfusionMatrixDisplay at 0x7fc0ad05a970>"
      ]
     },
     "execution_count": 27,
     "metadata": {},
     "output_type": "execute_result"
    },
    {
     "data": {
      "image/png": "[encoded data removed]",
      "text/plain": [
       "<Figure size 360x360 with 2 Axes>"
      ]
     },
     "metadata": {
      "needs_background": "light"
     },
     "output_type": "display_data"
    }
   ],
   "source": [
    "clf = LogisticRegression()\n",
    "\n",
    "# vanilla dataset: train the classifier on the original data\n",
    "clf.fit(X, y_train_val)\n",
    "vanilla_predictions = clf.predict(X_test)\n",
    "\n",
    "print(classification_report(y_test, vanilla_predictions))\n",
    "cm = confusion_matrix(y_test, vanilla_predictions)\n",
    "disp = ConfusionMatrixDisplay(confusion_matrix=cm)\n",
    "\n",
    "fig, ax = plt.subplots(figsize=(5, 5))\n",
    "disp.plot(ax=ax)"
   ]
  },
  {
   "cell_type": "code",
   "execution_count": 29,
   "metadata": {},
   "outputs": [
    {
     "name": "stdout",
     "output_type": "stream",
     "text": [
      "              precision    recall  f1-score   support\n",
      "\n",
      "           0       0.84      0.95      0.89      4600\n",
      "           1       0.67      0.36      0.47      1321\n",
      "\n",
      "    accuracy                           0.82      5921\n",
      "   macro avg       0.75      0.65      0.68      5921\n",
      "weighted avg       0.80      0.82      0.80      5921\n",
      "\n"
     ]
    },
    {
     "name": "stderr",
     "output_type": "stream",
     "text": [
      "/opt/conda/lib/python3.8/site-packages/sklearn/linear_model/_logistic.py:460: ConvergenceWarning: lbfgs failed to converge (status=1):\n",
      "STOP: TOTAL NO. of ITERATIONS REACHED LIMIT.\n",
      "\n",
      "Increase the number of iterations (max_iter) or scale the data as shown in:\n",
      "    https://scikit-learn.org/stable/modules/preprocessing.html\n",
      "Please also refer to the documentation for alternative solver options:\n",
      "    https://scikit-learn.org/stable/modules/linear_model.html#logistic-regression\n",
      "  n_iter_i = _check_optimize_result(\n"
     ]
    },
    {
     "data": {
      "text/plain": [
       "<sklearn.metrics._plot.confusion_matrix.ConfusionMatrixDisplay at 0x7fbf8b4f4fd0>"
      ]
     },
     "execution_count": 29,
     "metadata": {},
     "output_type": "execute_result"
    },
    {
     "data": {
      "image/png": "[encoded data removed]",
      "text/plain": [
       "<Figure size 360x360 with 2 Axes>"
      ]
     },
     "metadata": {
      "needs_background": "light"
     },
     "output_type": "display_data"
    }
   ],
   "source": [
    "# embeddings dataset: train the classifier on the embeddings\n",
    "clf.fit(train_embeddings, y_train_val)\n",
    "vanilla_predictions = clf.predict(test_embeddings)\n",
    "\n",
    "print(classification_report(y_test, vanilla_predictions))\n",
    "cm = confusion_matrix(y_test, vanilla_predictions)\n",
    "disp = ConfusionMatrixDisplay(confusion_matrix=cm)\n",
    "\n",
    "fig, ax = plt.subplots(figsize=(5, 5))\n",
    "disp.plot(ax=ax)"
   ]
  },
  {
   "cell_type": "code",
   "execution_count": null,
   "metadata": {},
   "outputs": [],
   "source": []
  }
 ],
 "metadata": {
  "kernelspec": {
   "display_name": "Python 3 (ipykernel)",
   "language": "python",
   "name": "python3"
  },
  "language_info": {
   "codemirror_mode": {
    "name": "ipython",
    "version": 3
   },
   "file_extension": ".py",
   "mimetype": "text/x-python",
   "name": "python",
   "nbconvert_exporter": "python",
   "pygments_lexer": "ipython3",
   "version": "3.8.12"
  }
 },
 "nbformat": 4,
 "nbformat_minor": 4
}
